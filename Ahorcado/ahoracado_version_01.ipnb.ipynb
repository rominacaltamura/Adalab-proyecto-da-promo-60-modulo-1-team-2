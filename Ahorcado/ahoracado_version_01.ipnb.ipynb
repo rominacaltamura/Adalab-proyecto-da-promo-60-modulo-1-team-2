{
 "cells": [
  {
   "cell_type": "code",
   "execution_count": 16,
   "id": "8e525c19",
   "metadata": {},
   "outputs": [],
   "source": [
    "#import random\n",
    "\n",
    "palabras_secretas = ['función', 'tupla', 'terminal', 'python']\n",
    "\n",
    "#palabra_secreta = random.choice(lista)\n",
    "\n",
    "palabra_secreta = 'función'"
   ]
  },
  {
   "cell_type": "code",
   "execution_count": 22,
   "id": "2b75cb8d",
   "metadata": {},
   "outputs": [
    {
     "name": "stdout",
     "output_type": "stream",
     "text": [
      "¡Bienvenida, Sara, a nuestro juego de la Ahorcada de la Promo 60!\n",
      "            \n",
      "¿Estás preparada para jugar?\n",
      "       \n",
      "te recordamos las normas Adalaber: \n",
      "            \n",
      "1. Adivina la palabra secreta, ¿cómo?, pues acertando sus letras!\n",
      "            \n",
      "PISTA: son palabras 100% ADALABER\n",
      "            \n"
     ]
    },
    {
     "ename": "NameError",
     "evalue": "name 'calavera' is not defined",
     "output_type": "error",
     "traceback": [
      "\u001b[1;31m---------------------------------------------------------------------------\u001b[0m",
      "\u001b[1;31mNameError\u001b[0m                                 Traceback (most recent call last)",
      "Cell \u001b[1;32mIn[22], line 13\u001b[0m\n\u001b[0;32m     11\u001b[0m \u001b[38;5;28mprint\u001b[39m(\u001b[38;5;124m'\u001b[39m\u001b[38;5;124mPISTA: son palabras 100\u001b[39m\u001b[38;5;124m%\u001b[39m\u001b[38;5;124m ADALABER\u001b[39m\u001b[38;5;124m'\u001b[39m)\n\u001b[0;32m     12\u001b[0m \u001b[38;5;28mprint\u001b[39m (\u001b[38;5;124m'\u001b[39m\u001b[38;5;124m            \u001b[39m\u001b[38;5;124m'\u001b[39m)\n\u001b[1;32m---> 13\u001b[0m \u001b[38;5;28mprint\u001b[39m (\u001b[38;5;124mf\u001b[39m\u001b[38;5;124m'\u001b[39m\u001b[38;5;124m2. tienes 6 intentos, antes de morir colgada! \u001b[39m\u001b[38;5;132;01m{\u001b[39;00mcalavera\u001b[38;5;132;01m}\u001b[39;00m\u001b[38;5;124m'\u001b[39m)\n\u001b[0;32m     14\u001b[0m \u001b[38;5;28mprint\u001b[39m (\u001b[38;5;124m'\u001b[39m\u001b[38;5;124m            \u001b[39m\u001b[38;5;124m'\u001b[39m)\n\u001b[0;32m     15\u001b[0m \u001b[38;5;28mprint\u001b[39m(\u001b[38;5;124mf\u001b[39m\u001b[38;5;124m'\u001b[39m\u001b[38;5;124m¿Facil no \u001b[39m\u001b[38;5;132;01m{\u001b[39;00mnombre_jugadora\u001b[38;5;132;01m}\u001b[39;00m\u001b[38;5;124m?, ¡comencemos!\u001b[39m\u001b[38;5;124m'\u001b[39m)\n",
      "\u001b[1;31mNameError\u001b[0m: name 'calavera' is not defined"
     ]
    }
   ],
   "source": [
    "nombre_jugadora = input('¿Cómo te llamas, adalaber?')\n",
    "\n",
    "print (f'¡Bienvenida, {nombre_jugadora}, a nuestro juego de la Ahorcada de la Promo 60!')\n",
    "print ('            ')\n",
    "print ('¿Estás preparada para jugar?')\n",
    "print ('       ')\n",
    "print ('te recordamos las normas Adalaber: ')\n",
    "print ('            ')\n",
    "print('1. Adivina la palabra secreta, ¿cómo?, pues acertando sus letras!')\n",
    "print ('            ')\n",
    "print('PISTA: son palabras 100% ADALABER')\n",
    "print ('            ')\n",
    "print (f'2. tienes 6 intentos, antes de morir colgada! {calavera}')\n",
    "print ('            ')\n",
    "print(f'¿Facil no {nombre_jugadora}?, ¡comencemos!')\n"
   ]
  },
  {
   "cell_type": "code",
   "execution_count": 18,
   "id": "1a86d1a4",
   "metadata": {},
   "outputs": [],
   "source": [
    "def escoger_palabra(lista):\n",
    "\n",
    "    #palabra_secreta = random.choice(lista)\n",
    "    palabra_secreta = 'función'\n",
    "    #print(f'esta es tu palabra secreta {palabra_secreta}')\n",
    "    return palabra_secreta"
   ]
  },
  {
   "cell_type": "code",
   "execution_count": 19,
   "metadata": {},
   "outputs": [],
   "source": [
    "def situar_letra_palabra(cadena):\n",
    "    palabra_secreta = escoger_palabra(palabras_secretas)\n",
    "\n",
    "    for letra in palabra_secreta: \n",
    "        if letra in palabra_secreta:\n",
    "            \n",
    "            palabra_secreta = list(palabra_secreta.upper())\n",
    "\n",
    "            #print(palabra_secreta)\n",
    "            print(letra)\n",
    "        else:\n",
    "            # convertir esto en buble while print('_')\n",
    "            print('¡fallaste Adalaber!')\n",
    "    return"
   ]
  },
  {
   "cell_type": "code",
   "execution_count": 20,
   "id": "2099f372",
   "metadata": {},
   "outputs": [
    {
     "name": "stdout",
     "output_type": "stream",
     "text": [
      "f\n",
      "¡fallaste Adalaber!\n",
      "¡fallaste Adalaber!\n",
      "¡fallaste Adalaber!\n",
      "¡fallaste Adalaber!\n",
      "¡fallaste Adalaber!\n",
      "¡fallaste Adalaber!\n"
     ]
    }
   ],
   "source": [
    "x = situar_letra_palabra(palabra_secreta)"
   ]
  },
  {
   "cell_type": "code",
   "execution_count": 21,
   "id": "e4bd3ec3",
   "metadata": {},
   "outputs": [],
   "source": [
    "def mostrar_tablero(palabra, letras_adivinadas):\n",
    "    \"\"\"\n",
    "    \"\"\"\n",
    "    letras_mostradas = []\n",
    "    for letra in palabra:\n",
    "        if letra in letras_adivinadas:\n",
    "            letras_mostradas.append(letra)\n",
    "        else:\n",
    "            letras_mostradas.append(\"_\")\n",
    "    return \" \".join(letras_mostradas)"
   ]
  }
 ],
 "metadata": {
  "kernelspec": {
   "display_name": "base",
   "language": "python",
   "name": "python3"
  },
  "language_info": {
   "codemirror_mode": {
    "name": "ipython",
    "version": 3
   },
   "file_extension": ".py",
   "mimetype": "text/x-python",
   "name": "python",
   "nbconvert_exporter": "python",
   "pygments_lexer": "ipython3",
   "version": "3.13.5"
  }
 },
 "nbformat": 4,
 "nbformat_minor": 5
}
