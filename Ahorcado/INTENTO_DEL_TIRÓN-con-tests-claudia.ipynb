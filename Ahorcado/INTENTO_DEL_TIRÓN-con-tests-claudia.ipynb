{
 "cells": [
  {
   "cell_type": "markdown",
   "id": "a651a021",
   "metadata": {},
   "source": [
    "Setup Inicial:"
   ]
  },
  {
   "cell_type": "code",
   "execution_count": null,
   "id": "002a4eb5",
   "metadata": {},
   "outputs": [],
   "source": [
    "import random\n",
    "## palabra_secreta = random.choice(list(palabras_secretas)) - QUITAR - ya esta en la funcion\n",
    "## BORRE la otra lista de palabras_secretas que estaban en otra celda, funciona con tenerlo en un sitio\n",
    "calavera = '\\U0001F480'\n",
    "confeti = \"\\U0001F389\"\n",
    "shhh = \"\\U0001F92B\"         #he añadido un par de emojis en la bienvenida y he modificado un poco el copy de la misma\n",
    "guiño = \"\\U0001F609\"\n",
    "pulgar_down =\"\\U0001F44E\"\n",
    "lengua_guiño = \"\\U0001F61C\""
   ]
  },
  {
   "cell_type": "markdown",
   "id": "c918f5a4",
   "metadata": {},
   "source": [
    "Definicion de funciones:"
   ]
  },
  {
   "cell_type": "code",
   "execution_count": null,
   "id": "42d0d48d",
   "metadata": {},
   "outputs": [],
   "source": [
    "# Empezamos accionando el rándom sobre nuestra lista de palabras elegibles:\n",
    "palabras_secretas = ['bootcamp', 'kernel', 'lloradita', 'python'] # he cambiado \"terminal\" por \"lloradita\" por aquello de evitar términos equívocos y darle un poquito de humor ;)\n",
    "def escoger_palabra_random(palabras_secretas):                    # la función tiene una estructura concreta: el estamento(def) el nombre de la función(escoger_palabra_random) y sobre lo que actúa, los parámetros(lista)\n",
    "    palabra_secreta = random.choice(palabras_secretas)            \n",
    "    print(f'PALABRA SECRETA (borrar print luego): {palabra_secreta}')  #ésto dp de comprobar que todo junto funciona hay que ocultarlo!\n",
    "    return palabra_secreta\n",
    "    #palabra_generada = escoger_palabra_random(palabras_secretas)  ## QUITADA - lo llamaba la segunda vez\n",
    "\n",
    "\"\"\"CODIGO ORIGINAL con # Abajo - Cambio Claudia\"\"\"\n",
    "#palabras_secretas = ['bootcamp', 'kernel', 'lloradita', 'python'] \n",
    "\n",
    "# def escoger_palabra_random(lista):                    # la función tiene una estructura concreta: el estamento(def) el nombre de la función(escoger_palabra_random) y sobre lo que actúa, los parámetros(lista)\n",
    "    # palabra_secreta = random.choice(palabras_secretas)            \n",
    "    # print(f'esta es tu palabra secreta {palabra_secreta}')  #ésto dp de comprobar que todo junto funciona hay que ocultarlo!\n",
    "    # return palabra_secreta\n",
    "# palabra_secreta = escoger_palabra_random(palabras_secretas)  ##HASTA AQUI FUNCIONA POR SEPARADO!!!!!!!!!!!!\n",
    "\n",
    "#creamos la pizarra sobre la que vamos a \"dibujar\" la horca y las letras que se vayan seleccionando:\n",
    "\n",
    "def pizarra(palabra_generada, letras_acertadas):  # le he llamado \"palabra_generada\" para explicitar que es la palabra_secreta Nº1 que generó el rándom, de entre las palabras_secretas\n",
    "    pizarra = \"\"  #la pizarra está al inicio vacía\n",
    "    for letra in palabra_generada: #bucle for para dar opciones a la máquina de qué hacer si se acierta la letra o no.\n",
    "        if letra in letras_acertadas:\n",
    "            pizarra += letra   #con ésto si se acierta la letra la meterá en la pizarra\n",
    "        else: \n",
    "            pizarra += \" _ \"    #si no la acierta, devolverá un guión\n",
    "    print(pizarra)   \n",
    "\n",
    "    #empezamos a jugar planteando la función central de juego:\n",
    "\n",
    "def jugar():\n",
    "    palabra_generada = escoger_palabra_random(palabras_secretas)  # \"activamos\" la palabra con la que vamos a jugar, llamando a la función que creamos arriba para seleccionarla\n",
    "    letras_acertadas = []    #creamos una lista aún vacía de letras elegidas\n",
    "    intentos_hasta_perder = 6 #que son el nº de partes del monigote a ahorcar\n",
    "\n",
    "    while intentos_hasta_perder > 0:\n",
    "        pizarra(palabra_generada, letras_acertadas)  #sobre nuestra pizarra dibujamos las variables con las que trabajamos\n",
    "        letra = input('Venga, ¡Elige una letra!').lower()   #pedimos a la jugadora que elija letra y con el método lower() aseguramos que independientemente de cómo meta la letra, al compararla sea correcta\n",
    "\n",
    "        if letra in letras_acertadas: #una vez elige letra contrastamos que no sea repetida (esta opción del juego le permitiría volver a elegir sin perder intentos. Es el if más cortito para que te devuelva al input para seguir con el juego)\n",
    "            print (f'\\nEsa letra ya la has elegido, petarda {lengua_guiño}. Prueba con otra!')\n",
    "            continue  #porque queremos que el juego siga adelante\n",
    "       \n",
    "        if letra in palabra_generada:\n",
    "            letras_acertadas.append(letra)\n",
    "            print('\\n¡Muy bien, sigue así!')\n",
    "            \n",
    "            if set(letras_acertadas) == set(palabra_generada):   #ÉSTO DEL SET LO HE  BUSCADO, PORQUE ME HABÍA BLOQUEADO Y NO SABÍAC ÓMO SEGUIR PARA COMPROBAR SI FUNCIONABA\n",
    "# SE ANADE el print(pizarra) para que salga la palabra entera - sino se frenaba.\n",
    "                pizarra(palabra_generada, letras_acertadas)\n",
    "# SE ANADE el {nombre_jugadora} en el los print final y \"\\n\" separa 1 linea de lo anterior\n",
    "                print(f'\\n{confeti}¡Hurra! ¡Has ganado, {nombre_jugadora}!{confeti}')\n",
    "                break\n",
    "## ELSE nueva posicion - evita \"- - - - -\" extras y fallo X intentos imprime       \n",
    "        else: \n",
    "            intentos_hasta_perder -=1\n",
    "            print(f'\\nFallaste maja! {pulgar_down} Te quedan {intentos_hasta_perder}')\n",
    "        \n",
    "    if intentos_hasta_perder == 0:\n",
    "        print (f'\\n¡La palmaste {nombre_jugadora}, eres una Adalaber-{calavera}-cadaver!')\n",
    "# SE ANADE el {nombre_jugadora} en el los print final\n",
    "        print(f\"\\nLa palabra era: {palabra_generada}.\")"
   ]
  },
  {
   "cell_type": "markdown",
   "id": "4e1339b5",
   "metadata": {},
   "source": [
    "**Ejecucion de juego:**"
   ]
  },
  {
   "cell_type": "code",
   "execution_count": null,
   "id": "c7c5561c",
   "metadata": {},
   "outputs": [
    {
     "name": "stdout",
     "output_type": "stream",
     "text": [
      "🎉 ¡Bienvenida, Claudia, a nuestro juego de la Ahorcada de la Promo 60! 🎉\n",
      "¿Estás preparada para jugar?\n",
      "\n",
      "Te recordamos, brevemente, las normas:\n",
      "1. Tu objetivo es adivinar la palabra secreta (🤫 Una PISTA, amiga: ¡Son palabras 100% ADALABER! 😉)\n",
      "¿Y cómo? Pues seleccionando y acertando letras, hasta descubrir la palabra oculta.\n",
      "\n",
      "2. Recuerda que tienes 6 intentos... ¡Antes de morir colgada! 💀\n",
      "\n",
      "¿Fácil, no Claudia? ¡Comencemos!\n",
      "_______________________________\n",
      "PALABRA SECRETA (borrar print luego): lloradita\n",
      " __  __  __  __  __  __  __  __  __ \n",
      "\n",
      "¡Muy bien, sigue así!\n",
      "ll __  __  __  __  __  __  __ \n",
      "\n",
      "¡Muy bien, sigue así!\n",
      "ll __  __ a __  __  __ a\n",
      "\n",
      "¡Muy bien, sigue así!\n",
      "llo __ a __  __  __ a\n",
      "\n",
      "¡Muy bien, sigue así!\n",
      "llo __ ad __  __ a\n",
      "\n",
      "¡Muy bien, sigue así!\n",
      "llo __ adi __ a\n",
      "\n",
      "¡Muy bien, sigue así!\n",
      "llo __ adita\n",
      "\n",
      "Esa letra ya la has elegido, petarda 😜. Prueba con otra!\n",
      "llo __ adita\n",
      "\n",
      "¡Muy bien, sigue así!\n",
      "lloradita\n",
      "\n",
      "🎉¡Hurra! ¡Has ganado, Claudia!🎉\n"
     ]
    }
   ],
   "source": [
    "nombre_jugadora = input('¿Cómo te llamas, Adalaber?')\n",
    "\n",
    "print (f'{confeti} ¡Bienvenida, {nombre_jugadora}, a nuestro juego de la Ahorcada de la Promo 60! {confeti}')\n",
    "print ('¿Estás preparada para jugar?')\n",
    "print ('\\nTe recordamos, brevemente, las normas:')\n",
    "print (f'1. Tu objetivo es adivinar la palabra secreta ({shhh} Una PISTA, amiga: ¡Son palabras 100% ADALABER! {guiño})')\n",
    "print ('¿Y cómo? Pues seleccionando y acertando letras, hasta descubrir la palabra oculta.')\n",
    "print (f'\\n2. Recuerda que tienes 6 intentos... ¡Antes de morir colgada! {calavera}')\n",
    "print (f'\\n¿Fácil, no {nombre_jugadora}? ¡Comencemos!')\n",
    "print (\"_______________________________\") # SEPARAMOS texto y juego? TBD\n",
    "jugar()"
   ]
  }
 ],
 "metadata": {
  "kernelspec": {
   "display_name": "Python 3",
   "language": "python",
   "name": "python3"
  },
  "language_info": {
   "codemirror_mode": {
    "name": "ipython",
    "version": 3
   },
   "file_extension": ".py",
   "mimetype": "text/x-python",
   "name": "python",
   "nbconvert_exporter": "python",
   "pygments_lexer": "ipython3",
   "version": "3.13.7"
  }
 },
 "nbformat": 4,
 "nbformat_minor": 5
}
