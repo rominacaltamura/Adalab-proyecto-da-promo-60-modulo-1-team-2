{
 "cells": [
  {
   "cell_type": "markdown",
   "id": "a651a021",
   "metadata": {},
   "source": [
    "Setup Inicial:"
   ]
  },
  {
   "cell_type": "code",
   "execution_count": null,
   "id": "002a4eb5",
   "metadata": {},
   "outputs": [],
   "source": [
    "import random\n",
    "\n",
    "calavera = '\\U0001F480'\n",
    "confeti = '\\U0001F389'\n",
    "shhh = '\\U0001F92B'     \n",
    "guiño = '\\U0001F609'\n",
    "pulgar_down =\"\\U0001F44E\"\n",
    "lengua_guiño = '\\U0001F61C'\n",
    "biceps = '\\U0001F4AA'"
   ]
  },
  {
   "cell_type": "markdown",
   "id": "c918f5a4",
   "metadata": {},
   "source": [
    "Definicion de funciones:"
   ]
  },
  {
   "cell_type": "code",
   "execution_count": null,
   "id": "42d0d48d",
   "metadata": {},
   "outputs": [],
   "source": [
    "palabras_secretas = ['bootcamp', 'kernel', 'lloradita', 'python'] \n",
    "\n",
    "def escoger_palabra_random(palabras_secretas):                     \n",
    "    palabra_secreta = random.choice(palabras_secretas)            \n",
    "    return palabra_secreta \n",
    "\n",
    "\n",
    "def pizarra(palabra_generada, letras_acertadas):  \n",
    "    pizarra = \"\"  \n",
    "    for letra in palabra_generada: \n",
    "        if letra in letras_acertadas:\n",
    "            pizarra += letra   \n",
    "        else: \n",
    "            pizarra += \" _ \"    \n",
    "    print(pizarra)   \n",
    "\n",
    "\n",
    "def jugar():\n",
    "    palabra_generada = escoger_palabra_random(palabras_secretas)  \n",
    "    letras_acertadas = []   \n",
    "    intentos_hasta_perder = 6 \n",
    "\n",
    "    while intentos_hasta_perder > 0:\n",
    "        pizarra(palabra_generada, letras_acertadas)  \n",
    "        letra = input('Venga, ¡Elige una letra!').lower()   \n",
    "\n",
    "        if letra in letras_acertadas: \n",
    "            print (f'\\nEsa letra ya la has elegido, petarda {lengua_guiño}. ¡Prueba con otra!')\n",
    "            continue  \n",
    "       \n",
    "        if letra in palabra_generada:\n",
    "            letras_acertadas.append(letra)\n",
    "            print(f'\\n¡Muy bien, sigue así!{biceps}')\n",
    "            \n",
    "            if set(letras_acertadas) == set(palabra_generada):   \n",
    "                pizarra(palabra_generada, letras_acertadas)\n",
    "                print(f'\\n{confeti}¡Hurra! ¡Has ganado, {nombre_jugadora}!{confeti}')\n",
    "                break\n",
    "\n",
    "        else: \n",
    "            intentos_hasta_perder -=1\n",
    "            print(f'\\nFallaste maja! {pulgar_down} Te quedan {intentos_hasta_perder}')\n",
    "        \n",
    "    if intentos_hasta_perder == 0:\n",
    "        print (f'\\n¡La palmaste {nombre_jugadora}, eres una Adalaber-{calavera}-cadaver!')\n",
    "\n",
    "        print(f\"\\nY la palabra era... ¡{palabra_generada}!\")"
   ]
  },
  {
   "cell_type": "markdown",
   "id": "4e1339b5",
   "metadata": {},
   "source": [
    "**Ejecucion de juego:**"
   ]
  },
  {
   "cell_type": "code",
   "execution_count": null,
   "id": "c7c5561c",
   "metadata": {},
   "outputs": [],
   "source": [
    "nombre_jugadora = input('¿Cómo te llamas, Adalaber?')\n",
    "\n",
    "print (f'{confeti} ¡Bienvenida, {nombre_jugadora}, a nuestro juego de la Ahorcada de la Promo 60! {confeti}')\n",
    "print ('¿Estás preparada para jugar?')\n",
    "print ('\\nTe recordamos, brevemente, las normas:')\n",
    "print (f'1. Tu objetivo es adivinar la palabra secreta ({shhh} Una PISTA, amiga: ¡Son palabras 100% ADALABER! {guiño})')\n",
    "print ('¿Y cómo? Pues seleccionando y acertando letras, hasta descubrir la palabra oculta.')\n",
    "print (f'\\n2. Recuerda que tienes 6 intentos... ¡Antes de morir colgada! {calavera}')\n",
    "print (f'\\n¿Fácil, no {nombre_jugadora}? ¡Comencemos..!')\n",
    "print (\"_______________________________\") \n",
    "\n",
    "jugar()"
   ]
  },
  {
   "cell_type": "code",
   "execution_count": null,
   "id": "28a0a0f3",
   "metadata": {},
   "outputs": [],
   "source": []
  }
 ],
 "metadata": {
  "kernelspec": {
   "display_name": "Python 3",
   "language": "python",
   "name": "python3"
  },
  "language_info": {
   "codemirror_mode": {
    "name": "ipython",
    "version": 3
   },
   "file_extension": ".py",
   "mimetype": "text/x-python",
   "name": "python",
   "nbconvert_exporter": "python",
   "pygments_lexer": "ipython3",
   "version": "3.13.7"
  }
 },
 "nbformat": 4,
 "nbformat_minor": 5
}
