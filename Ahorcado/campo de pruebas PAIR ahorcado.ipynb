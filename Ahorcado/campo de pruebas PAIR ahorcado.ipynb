{
 "cells": [
  {
   "cell_type": "code",
   "execution_count": 2,
   "id": "21ac03e7",
   "metadata": {},
   "outputs": [],
   "source": [
    "import random\n",
    "\n",
    "palabras_secretas = ['Bootcamp', 'kernel', 'lloradita', 'python'] # he cambiado \"terminal\" por \"lloradita\" por aquello de evitar términos equívocos y darle un poquito de humor ;)\n",
    "\n",
    "palabra_secreta = random.choice(list(palabras_secretas))\n",
    "\n",
    "calavera = '\\U0001F480'\n",
    "\n",
    "confeti = \"\\U0001F389\"\n",
    "\n",
    "shhh = \"\\U0001F92B\"         #he añadido un par de emojis en la bienvenida y he modificado un poco el copy de la misma\n",
    "\n",
    "guiño = \"\\U0001F609\"\n",
    "\n",
    "pulgar_down =\"\\U0001F44E\"\n",
    "\n",
    "lengua_guiño = \"\\U0001F61C\"\n"
   ]
  },
  {
   "cell_type": "code",
   "execution_count": 3,
   "id": "8c818955",
   "metadata": {},
   "outputs": [
    {
     "name": "stdout",
     "output_type": "stream",
     "text": [
      "🎉 ¡Bienvenida, YO, a nuestro juego de la Ahorcada de la Promo 60! 🎉\n",
      "            \n",
      "¿Estás preparada para jugar?\n",
      "       \n",
      "Te recordamos, brevemente, las normas:\n",
      "            \n",
      "1. Tu objetivo es adivinar la palabra secreta (🤫 Una PISTA, amiga: ¡Son palabras 100% ADALABER! 😉)\n",
      "¿Y cómo? Pues seleccionando y acertando letras, hasta descubrir la palabra oculta.\n",
      "            \n",
      "2. Recuerda que tienes 6 intentos... ¡Antes de morir colgada! 💀\n",
      "            \n",
      "¿Fácil, no YO? ¡Comencemos!\n"
     ]
    }
   ],
   "source": [
    "nombre_jugadora = input('¿Cómo te llamas, Adalaber?')\n",
    "\n",
    "print (f'{confeti} ¡Bienvenida, {nombre_jugadora}, a nuestro juego de la Ahorcada de la Promo 60! {confeti}')\n",
    "print ('            ')\n",
    "print ('¿Estás preparada para jugar?')\n",
    "print ('       ')\n",
    "print ('Te recordamos, brevemente, las normas:')\n",
    "print ('            ')\n",
    "print (f'1. Tu objetivo es adivinar la palabra secreta ({shhh} Una PISTA, amiga: ¡Son palabras 100% ADALABER! {guiño})')\n",
    "print ('¿Y cómo? Pues seleccionando y acertando letras, hasta descubrir la palabra oculta.')\n",
    "print ('            ')\n",
    "print (f'2. Recuerda que tienes 6 intentos... ¡Antes de morir colgada! {calavera}')\n",
    "print ('            ')\n",
    "print (f'¿Fácil, no {nombre_jugadora}? ¡Comencemos!')\n"
   ]
  },
  {
   "cell_type": "code",
   "execution_count": 4,
   "id": "b2a25515",
   "metadata": {},
   "outputs": [
    {
     "name": "stdout",
     "output_type": "stream",
     "text": [
      "esta es tu palabra secreta python ésto dp de comprobar que todo junto funciona hay que ocultarlo!\n"
     ]
    }
   ],
   "source": [
    "# Empezamos accionando el rándom sobre nuestra lista de palabras elegibles:\n",
    "\n",
    "palabras_secretas = ['bootcamp', 'kernel', 'lloradita', 'python'] \n",
    "\n",
    "\n",
    "def escoger_palabra_random(lista):                    # la función tiene una estructura concreta: el estamento(def) el nombre de la función(escoger_palabra_random) y sobre lo que actúa, los parámetros(lista)\n",
    "    palabra_secreta = random.choice(palabras_secretas)            \n",
    "    print(f'esta es tu palabra secreta {palabra_secreta} ésto dp de comprobar que todo junto funciona hay que ocultarlo!')\n",
    "    return palabra_secreta\n",
    "palabra_secreta = escoger_palabra_random(palabras_secretas)  ##HASTA AQUI FUNCIONA POR SEPARADO!!!!!!!!!!!!\n",
    "\n"
   ]
  },
  {
   "cell_type": "markdown",
   "id": "d013bfbf",
   "metadata": {},
   "source": [
    "### zona juego ahorcado\n"
   ]
  },
  {
   "cell_type": "code",
   "execution_count": null,
   "id": "be1a9394",
   "metadata": {},
   "outputs": [],
   "source": [
    "def pizarra (palabra_generada, letras_acertadas):  # le he llamado \"palabra_generada\" para explicitar que es la palabra_secreta Nº1 que generó el rándom, de entre las palabras_secretas\n",
    "    pizarra = \"\"  #la pizarra está al inicio vacía\n",
    "    for letra in palabra_generada: #bucle for para dar opciones a la máquina de qué hacer si se acierta la letra o no.\n",
    "        if letra in letras_acertadas:\n",
    "            pizarra += letra   #con ésto si se acierta la letra la meterá en la pizarra\n",
    "        else: \n",
    "            pizarra += \" _ \"    #si no la acierta, devolverá un guión\n",
    "    print(pizarra)       \n",
    "\n"
   ]
  },
  {
   "cell_type": "code",
   "execution_count": null,
   "id": "d68dba79",
   "metadata": {},
   "outputs": [
    {
     "name": "stdout",
     "output_type": "stream",
     "text": [
      "esta es tu palabra secreta bootcamp ésto dp de comprobar que todo junto funciona hay que ocultarlo!\n",
      " _  _  _  _  _  _  _  _ \n",
      "¡Muy bien, sigue así!\n",
      " _  _  _  _  _  _  _ p\n",
      "¡Muy bien, sigue así!\n",
      " _ oo _  _  _  _ p\n",
      "Fallaste maja! 👎 Te quedan 5\n",
      " _ oo _  _  _  _ p\n",
      "Fallaste maja! 👎 Te quedan 4\n",
      " _ oo _  _  _  _ p\n",
      "Esa letra ya la has elegido, petarda 😜. Prueba con otra!\n",
      " _ oo _  _  _  _ p\n",
      "¡Muy bien, sigue así!\n",
      " _ oot _  _  _ p\n",
      "¡Muy bien, sigue así!\n",
      "boot _  _  _ p\n",
      "¡Muy bien, sigue así!\n",
      "bootc _  _ p\n",
      "¡Muy bien, sigue así!\n",
      "bootca _ p\n",
      "¡Muy bien, sigue así!\n",
      "bootcamp\n",
      "Esa letra ya la has elegido, petarda 😜. Prueba con otra!\n",
      "bootcamp\n"
     ]
    }
   ],
   "source": [
    "#empezamos a jugar planteando la función central de juego:\n",
    "\n",
    "def jugar():\n",
    "    palabra_generada = escoger_palabra_random(palabras_secretas)  # \"activamos\" la palabra con la que vamos a jugar, llamando a la función que creamos arriba para seleccionarla\n",
    "    letras_acertadas = []    #creamos una lista aún vacía de letras elegidas\n",
    "    intentos_hasta_perder = 6 #que son el nº de partes del monigote a ahorcar\n",
    "\n",
    "    while intentos_hasta_perder > 0:\n",
    "       pizarra (palabra_generada, letras_acertadas)  #sobre nuestra pizarra dibujamos las variables con las que trabajamos\n",
    "       letra = input('Venga, ¡Elige una letra!').lower()   #pedimos a la jugadora que elija letra y con el método lower() aseguramos que independientemente de cómo meta la letra, al compararla sea correcta\n",
    "\n",
    "       if letra in letras_acertadas: #una vez elige letra contrastamos que no sea repetida (esta opción del juego le permitiría volver a elegir sin perder intentos. Es el if más cortito para que te devuelva al input para seguir con el juego)\n",
    "           print (f'Esa letra ya la has elegido, petarda {lengua_guiño}. Prueba con otra!')\n",
    "           continue  #porque queremos que el juego siga adelante\n",
    "       \n",
    "       if letra in palabra_generada: #ésto serían las opciones de acierto: 1ª)que acierte la letra y se incluya en la lista de letras_acertadas o\n",
    "          letras_acertadas.append(letra)\n",
    "          print ('¡Muy bien, sigue así!')\n",
    "          # 2ª que al seguir acertando una letra tras otra, se junten en la lista de letras_acertadas todas las que componen la palabra_generada y eso signifique ganar\n",
    "          # ¿CÓMO???? \n",
    "          # if letras_acertadas = palabra_generada ???? ¡SE ME HA ESGUINZADO EL CEREBRO!\n",
    "          # print(f'{confeti}¡Hurra! ¡Has ganado!{confeti}')\n",
    "          # break\n",
    "\n",
    "       else:\n",
    "           intentos_hasta_perder -=1\n",
    "           print(f'Fallaste maja! {pulgar_down} Te quedan {intentos_hasta_perder}')\n",
    "        \n",
    "    if intentos_hasta_perder == 0:\n",
    "        print (f'¡La palmaste maja, eres una Adalaber-{calavera}-cadaver!')\n",
    "\n",
    "jugar()\n",
    "\n",
    "# Ahora, aunque las aciertes todas y completes la palabra, no para! si insistes te llama petarda! ;P\n"
   ]
  },
  {
   "cell_type": "code",
   "execution_count": null,
   "id": "6e2b7493",
   "metadata": {},
   "outputs": [],
   "source": []
  },
  {
   "cell_type": "code",
   "execution_count": null,
   "id": "29866d0a",
   "metadata": {},
   "outputs": [],
   "source": []
  },
  {
   "cell_type": "code",
   "execution_count": 8,
   "id": "212d063f",
   "metadata": {},
   "outputs": [
    {
     "ename": "IndentationError",
     "evalue": "expected an indented block after function definition on line 19 (1118103638.py, line 21)",
     "output_type": "error",
     "traceback": [
      "  \u001b[36mCell\u001b[39m\u001b[36m \u001b[39m\u001b[32mIn[8]\u001b[39m\u001b[32m, line 21\u001b[39m\n\u001b[31m    \u001b[39m\u001b[31mwhile intentos_restantes > 0:\u001b[39m\n    ^\n\u001b[31mIndentationError\u001b[39m\u001b[31m:\u001b[39m expected an indented block after function definition on line 19\n"
     ]
    }
   ],
   "source": [
    "palabra_secreta = escoger_palabra_random(palabras_secretas)\n",
    "letras_acertadas = []\n",
    "fallos_acumulados = 6\n",
    "intentos_restantes = fallos_acumulados\n",
    "elección_jugadora = input('Venga, ¡Elige una letra!')\n",
    "\n",
    "\n",
    "def pizarra (letra, letras_adivinadas):\n",
    "    \"\"\"\n",
    "    \"\"\"\n",
    "    letras_mostradas = []\n",
    "    for letra in palabra_secreta:\n",
    "        if letra in letras_adivinadas:\n",
    "            letras_mostradas.append(letra)\n",
    "        else:\n",
    "            letras_mostradas.append(\"_\")\n",
    "    return \" \".join(letras_mostradas)\n",
    "\n",
    "def jugar():\n",
    "\n",
    "while intentos_restantes > 0:\n",
    "    \n",
    "    if elección_jugadora in palabra_secreta:\n",
    "        palabra_secreta = list(palabra_secreta.upper())\n",
    "        elección_jugadora.join(sorted(letras_acertadas))\n",
    "        print(\"Muy bien, sigue así!\")\n",
    "        #nota: un continue para el bucle, pero yo necesito todos los aciertos\n",
    "\n",
    "    elif elección_jugadora not in palabra_secreta:\n",
    "        fallos_acumulados += 1\n",
    "        #no me vuelve a preguntar la letra\n",
    "        print(f'Fallaste, maja {pulgar_down}')      \n",
    "        elección_jugadora = input('Pero, venga, ¡Vuelve a elegir!')\n",
    "\n",
    "\n",
    "    else: intentos_restantes == 0 \n",
    "    print (f'¡La palmaste maja, eres una Adalaber-{calavera}-cadaver!')\n"
   ]
  },
  {
   "cell_type": "code",
   "execution_count": null,
   "id": "236f53ac",
   "metadata": {},
   "outputs": [],
   "source": []
  }
 ],
 "metadata": {
  "kernelspec": {
   "display_name": "Python 3",
   "language": "python",
   "name": "python3"
  },
  "language_info": {
   "codemirror_mode": {
    "name": "ipython",
    "version": 3
   },
   "file_extension": ".py",
   "mimetype": "text/x-python",
   "name": "python",
   "nbconvert_exporter": "python",
   "pygments_lexer": "ipython3",
   "version": "3.13.7"
  }
 },
 "nbformat": 4,
 "nbformat_minor": 5
}
